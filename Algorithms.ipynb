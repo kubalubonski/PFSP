{
 "cells": [
  {
   "attachments": {},
   "cell_type": "markdown",
   "metadata": {},
   "source": [
    "# Processing time in the permutation flow shop problem (PFSP)"
   ]
  },
  {
   "attachments": {},
   "cell_type": "markdown",
   "metadata": {},
   "source": [
    "import libraries"
   ]
  },
  {
   "cell_type": "code",
   "execution_count": 3,
   "metadata": {},
   "outputs": [],
   "source": [
    "import pandas as pd\n",
    "import random as rd\n",
    "import numpy as np\n",
    "from copy import deepcopy"
   ]
  },
  {
   "attachments": {},
   "cell_type": "markdown",
   "metadata": {},
   "source": [
    "loading data"
   ]
  },
  {
   "cell_type": "code",
   "execution_count": 4,
   "metadata": {},
   "outputs": [],
   "source": [
    "df50_20 = pd.read_excel('Dane_PFSP_50_20.xlsx', header=0, index_col=0)\n",
    "df100_10 = pd.read_excel('Dane_PFSP_100_10.xlsx', header=0, index_col=0)\n",
    "df200_10 = pd.read_excel('Dane_PFSP_200_10.xlsx', header=0, index_col=0)\n"
   ]
  },
  {
   "attachments": {},
   "cell_type": "markdown",
   "metadata": {},
   "source": [
    "Function to calculate time"
   ]
  },
  {
   "cell_type": "code",
   "execution_count": 5,
   "metadata": {},
   "outputs": [],
   "source": [
    "\n",
    "def Time_sum(data, solution):\n",
    "    # pad cells with zeros\n",
    "    tab = np.zeros((len(data), len(data[0])))\n",
    "    # fil the first row\n",
    "    for i in np.arange(0, len(data[0])):\n",
    "        tab[0][i] = data[solution[0]][i] + tab[0][i-1]\n",
    "    # fill the first column\n",
    "    for i in np.arange(0, len(data)):\n",
    "        tab[i][0] = data[solution[i]][0] + tab[i-1][0]\n",
    "    # fill rest of cells\n",
    "    for i in np.arange(1, len(data)):\n",
    "        for j in np.arange(1, len(data[0])):\n",
    "            tab[i][j] = max(tab[i-1][j], tab[i][j-1]) + data[solution[i]][j]\n",
    "    # time to go through all jobs on all machines\n",
    "    return tab[len(tab)-1][len(tab[0])-1]"
   ]
  },
  {
   "attachments": {},
   "cell_type": "markdown",
   "metadata": {},
   "source": [
    "## Simulated annealing \n",
    "(neighborhood type: SWAP)"
   ]
  },
  {
   "attachments": {},
   "cell_type": "markdown",
   "metadata": {},
   "source": [
    "Parameters: \n",
    "T_max - maximal temperature,\n",
    "T_min - minimal temperature,\n",
    "alfa - the rate of temperature drop,\n",
    "iter - number of iterations,\n",
    "df - data."
   ]
  },
  {
   "cell_type": "code",
   "execution_count": 6,
   "metadata": {},
   "outputs": [],
   "source": [
    "def SA (T_max, T_min, alfa, iter, df):\n",
    "\n",
    "    # convert a data frame into a list (acceleration of calculations)\n",
    "    lista = df.values.tolist()\n",
    "    # innitial solution\n",
    "    list1 = np.arange(0, len(lista)) \n",
    "    rd.shuffle(list1)\n",
    "    list1 = list(list1)\n",
    "    T = T_max\n",
    "    \n",
    "    # stop condition of the algorithm\n",
    "    while T > T_min: \n",
    "        for j in np.arange(0, iter):\n",
    "\n",
    "            # finding a neighboring solution (type: SWAP)\n",
    "            rand = False\n",
    "            while not rand:\n",
    "                # draw two machines to swap\n",
    "                r1 = rd.randint(0, len(lista)-1)\n",
    "                r2 = rd.randint(0, len(lista)-1)\n",
    "                if r1 != r2:\n",
    "                    rand = True\n",
    "            list2 = deepcopy(list1)   # deepcopy\n",
    "            \n",
    "            sum, sum2 = 0, 0\n",
    "            # the sum of the distances for the solutions\n",
    "            # Obliczenie sum czasów dla obu rozwiązań\n",
    "            suma, suma2 = 0, 0\n",
    "            suma = Time_sum(lista, list1)\n",
    "            suma2 = Time_sum(lista, list2)\n",
    "            # checking whether the new solution is better\n",
    "            if sum > sum2:\n",
    "                list1 = deepcopy(list2)\n",
    "            else:      # condition for accepting a worse solution\n",
    "                if np.exp((sum - sum2)/T) > rd.random():\n",
    "                    list1 = deepcopy(list2)\n",
    "        T = T*alfa\n",
    "    sum_min = 0\n",
    "    \n",
    "    # Printing the parameter values, the order of the tasks and the distance obtained\n",
    "    print(\"Parametres: \", '\\n',\"Number od tasks:\",len(lista), '\\n', 'Number of machines: ', len(lista[0]), '\\n', 'Type of neighbourhood: SWAP', '\\n', 'Temperature max: ', T_max, '\\n', 'Temperature min: ', T_min, '\\n', 'Alfa: ', alfa, '\\n', 'Number of iterations: ', iter, '\\n')\n",
    "    sum_min = sum_min + Time_sum(lista, list1)\n",
    "    print('RESULTS', '\\n', list1, '\\n', 'Total time: ', sum_min, '\\n')\n"
   ]
  },
  {
   "cell_type": "markdown",
   "metadata": {},
   "source": []
  },
  {
   "attachments": {},
   "cell_type": "markdown",
   "metadata": {},
   "source": [
    "Test"
   ]
  },
  {
   "cell_type": "code",
   "execution_count": 7,
   "metadata": {},
   "outputs": [
    {
     "name": "stdout",
     "output_type": "stream",
     "text": [
      "Parametres:  \n",
      " Number od tasks: 100 \n",
      " Number of machines:  10 \n",
      " Type of neighbourhood: SWAP \n",
      " Temperature max:  100 \n",
      " Temperature min:  1 \n",
      " Alfa:  0.5 \n",
      " Number of iterations:  100 \n",
      "\n",
      "RESULTS \n",
      " [96, 28, 68, 66, 58, 13, 7, 54, 61, 87, 95, 57, 1, 29, 36, 32, 76, 71, 40, 43, 26, 55, 45, 75, 25, 50, 86, 89, 65, 91, 22, 16, 59, 83, 53, 2, 48, 63, 3, 37, 69, 85, 41, 88, 80, 78, 18, 90, 74, 64, 20, 14, 6, 5, 94, 77, 21, 19, 15, 34, 46, 97, 51, 11, 12, 73, 10, 49, 92, 33, 99, 81, 4, 9, 8, 39, 47, 38, 98, 31, 17, 72, 93, 42, 82, 44, 56, 62, 27, 30, 67, 24, 60, 52, 84, 23, 35, 70, 79, 0] \n",
      " Total time:  6796.0 \n",
      "\n"
     ]
    }
   ],
   "source": [
    "SA(100,1,0.5,100,df100_10)"
   ]
  },
  {
   "attachments": {},
   "cell_type": "markdown",
   "metadata": {},
   "source": [
    "## Simulated annealing 2\n",
    "(neighborhood type: inversion)"
   ]
  },
  {
   "attachments": {},
   "cell_type": "markdown",
   "metadata": {},
   "source": [
    "Parameters: \n",
    "T_max - maximal temperature,\n",
    "T_min - minimal temperature,\n",
    "alfa - the rate of temperature drop,\n",
    "iter - number of iterations,\n",
    "df - data."
   ]
  },
  {
   "cell_type": "code",
   "execution_count": 8,
   "metadata": {},
   "outputs": [],
   "source": [
    "def SA_inversion (T_max, T_min, alfa, iter, df):\n",
    "\n",
    "    # Zamiana ramki danych na listę (przyspieszenie obliczeń)\n",
    "    lista = df.values.tolist()\n",
    "    # innitial solution\n",
    "    list1 = np.arange(0, len(lista)) \n",
    "    rd.shuffle(list1)\n",
    "    list1 = list(list1)\n",
    "    T = T_max\n",
    "    \n",
    "    # stop condition of the algorithm\n",
    "    while T > T_min: \n",
    "        for j in np.arange(0, iter):\n",
    "\n",
    "            # finding a neighboring solution (type: SWAP)\n",
    "            rand = False\n",
    "            while not rand:\n",
    "                # draw two machines to swap\n",
    "                r1 = rd.randint(0, len(lista)-1)\n",
    "                r2 = rd.randint(0, len(lista)-1)\n",
    "                if r1 != r2:\n",
    "                    rand = True\n",
    "            list2 = deepcopy(list1)   # deepcopy\n",
    "            list2[r1] = list1[r2]\n",
    "            list2[r2] = list1[r1]   \n",
    "            if r1 < r2:\n",
    "                list2[r1:r2] = reversed(list2[r1:r2])\n",
    "            else:\n",
    "                list2[r2:r1] = reversed(list2[r2:r1])  # list2 - new, neighboring solution\n",
    "            sum, sum2 = 0, 0\n",
    "            # the sum of the distances for the solutions\n",
    "            # Obliczenie sum czasów dla obu rozwiązań\n",
    "            suma, suma2 = 0, 0\n",
    "            suma = Time_sum(lista, list1)\n",
    "            suma2 = Time_sum(lista, list2)\n",
    "            # checking whether the new solution is better\n",
    "            if sum > sum2:\n",
    "                list1 = deepcopy(list2)\n",
    "            else:      # condition for accepting a worse solution\n",
    "                if np.exp((sum - sum2)/T) > rd.random():\n",
    "                    list1 = deepcopy(list2)\n",
    "        T = T*alfa\n",
    "    sum_min = 0\n",
    "    \n",
    "    # Printing the parameter values, the order of the tasks and the distance obtained\n",
    "    print(\"Parametres: \", '\\n',\"Number od tasks: \",len(lista), '\\n', 'Number of machines: ', len(lista[0]), '\\n', 'Type of neighbourhood: SWAP', '\\n', 'Temperature max: ', T_max, '\\n', 'Temperature min: ', T_min, '\\n', 'Alfa: ', alfa, '\\n', 'Number of iterations: ', iter, '\\n')\n",
    "    \n",
    "    sum_min = sum_min + Time_sum(lista, list1)\n",
    "    print('RESULTS', '\\n', list1, '\\n', 'Total time: ', sum_min, '\\n')"
   ]
  },
  {
   "attachments": {},
   "cell_type": "markdown",
   "metadata": {},
   "source": [
    "Test"
   ]
  },
  {
   "cell_type": "code",
   "execution_count": 9,
   "metadata": {},
   "outputs": [
    {
     "name": "stdout",
     "output_type": "stream",
     "text": [
      "Parametres:  \n",
      " Number od tasks:  100 \n",
      " Number of machines:  10 \n",
      " Type of neighbourhood: SWAP \n",
      " Temperature max:  100 \n",
      " Temperature min:  1 \n",
      " Alfa:  0.5 \n",
      " Number of iterations:  100 \n",
      "\n",
      "RESULTS \n",
      " [76, 26, 35, 4, 27, 59, 1, 90, 45, 10, 16, 69, 71, 99, 7, 43, 24, 46, 82, 15, 42, 83, 13, 22, 9, 0, 78, 30, 5, 18, 62, 91, 23, 36, 28, 65, 6, 86, 44, 33, 25, 73, 94, 63, 55, 47, 85, 52, 2, 20, 54, 29, 56, 19, 21, 67, 31, 38, 32, 40, 97, 41, 51, 84, 98, 88, 74, 11, 79, 53, 72, 3, 87, 49, 81, 8, 70, 89, 61, 96, 50, 12, 60, 37, 48, 17, 93, 80, 95, 75, 77, 57, 92, 64, 58, 66, 39, 34, 14, 68] \n",
      " Total time:  6623.0 \n",
      "\n"
     ]
    }
   ],
   "source": [
    "SA_inversion(100,1,0.5,100, df100_10)"
   ]
  },
  {
   "attachments": {},
   "cell_type": "markdown",
   "metadata": {},
   "source": [
    "## Hill Climbing"
   ]
  },
  {
   "cell_type": "code",
   "execution_count": 10,
   "metadata": {},
   "outputs": [],
   "source": [
    "# function to use chosen neighborhood\n",
    "def find_neigbor(list1, list2, r1, r2, neigborhood):\n",
    "    \n",
    "    if neigborhood == \"SWAP\":\n",
    "        list2[r1] = list1[r2]\n",
    "        list2[r2] = list1[r1]   # list2 - new, neighboring solution\n",
    "    if neigborhood == \"inversion\":\n",
    "        if r1 < r2:\n",
    "            list2[r1:r2] = reversed(list2[r1:r2])\n",
    "        else:\n",
    "            list2[r2:r1] = reversed(list2[r2:r1])  # list2 - new, neighboring solution\n",
    "    \n",
    "    return list2"
   ]
  },
  {
   "cell_type": "code",
   "execution_count": 12,
   "metadata": {},
   "outputs": [],
   "source": [
    "def HillClimbing (iter, iter_no_improve, lista, neigborhood):\n",
    "\n",
    "    \n",
    "    # convert a data frame into a list (acceleration of calculations)\n",
    "    lista = lista.values.tolist()\n",
    "    # list1 - innitial solution\n",
    "    list1 = np.arange(0, len(lista)) \n",
    "    rd.shuffle(list1)\n",
    "    list1 = list(list1)\n",
    "\n",
    "    k = 0\n",
    "    while k == iter_no_improve or k == iter:\n",
    "\n",
    "        # find a neighboring solution\n",
    "        rand = False\n",
    "        while not rand:\n",
    "            # draw two cities to swap\n",
    "            r1 = rd.randint(0, len(lista)-1)\n",
    "            r2 = rd.randint(0, len(lista)-1)\n",
    "            if r1 != r2:\n",
    "                rand = True\n",
    "        list2 = deepcopy(list1)   # deepcopy\n",
    "\n",
    "            # function to use chosen neighborhood\n",
    "        find_neigbor(list1, list2, r1, r2, neigborhood, lista)\n",
    "            \n",
    "        sum, sum2 = 0, 0\n",
    "        # the sum of the distances for the solutions\n",
    "        for i in np.arange(0, len(lista)):\n",
    "            sum = sum + lista.iloc[list1[i - 1], list1[i]]\n",
    "            sum2 = sum2 + lista.iloc[list2[i - 1], list2[i]]\n",
    "        # checking whether the new solution is better\n",
    "        if sum > sum2:\n",
    "            list1 = deepcopy(list2)\n",
    "        if sum < sum2:\n",
    "            k = k+1\n",
    "          \n",
    "        \n",
    "    sum_min = 0\n",
    "    # Printing the parameter values, the order of the cities and the distance obtained\n",
    "    print(\"Parametres: \", '\\n', \"Number od tasks:\", len(lista), '\\n', 'Number of machines: ', len(lista[0]), '\\n', 'Type of neighbourhood:',neigborhood ,'\\n', 'Iteration without improvement: ', iter_no_improve,'\\n', 'Number of iterations: ', iter, '\\n')\n",
    "    sum_min = sum_min + Time_sum(lista, list1)\n",
    "    print('RESULTS', '\\n', list1, '\\n', 'Total time: ', sum_min, '\\n')  \n",
    "         "
   ]
  },
  {
   "attachments": {},
   "cell_type": "markdown",
   "metadata": {},
   "source": [
    "Test"
   ]
  },
  {
   "cell_type": "code",
   "execution_count": 13,
   "metadata": {},
   "outputs": [
    {
     "name": "stdout",
     "output_type": "stream",
     "text": [
      "====== test 1 ============\n",
      "Parametres:  \n",
      " Number od tasks: 100 \n",
      " Number of machines:  10 \n",
      " Type of neighbourhood: inversion \n",
      " Iteration without improvement:  10 \n",
      " Number of iterations:  10 \n",
      "\n",
      "RESULTS \n",
      " [64, 14, 97, 30, 28, 0, 88, 12, 54, 22, 38, 41, 11, 48, 74, 69, 7, 81, 33, 67, 52, 3, 8, 76, 2, 24, 27, 94, 49, 79, 73, 71, 45, 60, 93, 89, 44, 96, 90, 63, 92, 16, 17, 78, 82, 29, 83, 51, 72, 36, 21, 68, 62, 61, 58, 37, 20, 57, 75, 43, 39, 95, 77, 55, 80, 53, 59, 50, 98, 19, 66, 42, 85, 70, 40, 9, 65, 26, 1, 6, 23, 10, 4, 13, 91, 47, 87, 84, 15, 32, 31, 46, 35, 34, 86, 18, 5, 56, 25, 99] \n",
      " Total time:  6507.0 \n",
      "\n"
     ]
    }
   ],
   "source": [
    "print(\"====== test 1 ============\")\n",
    "HillClimbing(10,10,df100_10, \"inversion\")"
   ]
  }
 ],
 "metadata": {
  "kernelspec": {
   "display_name": "Python 3",
   "language": "python",
   "name": "python3"
  },
  "language_info": {
   "codemirror_mode": {
    "name": "ipython",
    "version": 3
   },
   "file_extension": ".py",
   "mimetype": "text/x-python",
   "name": "python",
   "nbconvert_exporter": "python",
   "pygments_lexer": "ipython3",
   "version": "3.11.2"
  },
  "orig_nbformat": 4
 },
 "nbformat": 4,
 "nbformat_minor": 2
}
